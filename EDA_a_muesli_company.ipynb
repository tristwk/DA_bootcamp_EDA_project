{
 "cells": [
  {
   "cell_type": "code",
   "execution_count": 1,
   "metadata": {},
   "outputs": [],
   "source": [
    "import pandas as pd\n",
    "import matplotlib.pyplot as plt\n",
    "import seaborn as sns\n",
    "import numpy as np\n",
    "\n"
   ]
  },
  {
   "cell_type": "code",
   "execution_count": 2,
   "metadata": {},
   "outputs": [],
   "source": [
    "muesli = pd.read_csv(\"/Users/tristakuo/neuefische/EDA_Silke_Trista/Muesli.csv\", sep= ',', header=1)\n",
    "order_process = pd.read_csv(\"/Users/tristakuo/neuefische/EDA_Silke_Trista/Order_Process.csv\", sep= ',')\n",
    "campaign = pd.read_csv(\"/Users/tristakuo/neuefische/EDA_Silke_Trista/Campaign_Data.csv\", sep= ',')\n",
    "ready_to_ship = pd.read_csv(\"/Users/tristakuo/neuefische/EDA_Silke_Trista/InternData.csv\", sep= ',')"
   ]
  },
  {
   "cell_type": "code",
   "execution_count": 3,
   "metadata": {},
   "outputs": [],
   "source": [
    "# change column names for all dataframes \n",
    "\n",
    "muesli.columns = muesli.columns.str.replace(\" \", \"_\")\n",
    "muesli.columns = muesli.columns.str.replace(\"/\", \"_\")\n",
    "muesli.columns = muesli.columns.str.replace(\"-\", \"_\")\n",
    "muesli.columns = [x.lower() for x in muesli.columns]\n",
    "\n",
    "order_process.columns = order_process.columns.str.replace(\" \", \"_\")\n",
    "order_process.columns = [x.lower() for x in order_process.columns]\n",
    "\n",
    "campaign.columns = campaign.columns.str.replace(\" \", \"_\")\n",
    "campaign.columns = [x.lower() for x in campaign.columns]\n",
    "\n",
    "ready_to_ship.columns = ready_to_ship.columns.str.replace(\" \", \"_\")\n",
    "ready_to_ship.columns = [x.lower() for x in ready_to_ship.columns]"
   ]
  },
  {
   "cell_type": "code",
   "execution_count": 4,
   "metadata": {},
   "outputs": [],
   "source": [
    "# change data type: dates \n",
    "\n",
    "muesli['order_date'] = pd.to_datetime(muesli['order_date'], format= '%d/%m/%Y')\n",
    "\n",
    "order_process['order_date'] = pd.to_datetime(order_process['order_date'],format= '%d/%m/%Y')\n",
    "order_process['on_truck_scan_date'] = pd.to_datetime(order_process['on_truck_scan_date'],format= '%d/%m/%Y')\n",
    "\n",
    "campaign['arrival_scan_date'] = pd.to_datetime(campaign['arrival_scan_date'], format= '%d/%m/%Y')\n",
    "ready_to_ship['ready_to_ship_date'] = pd.to_datetime(ready_to_ship['ready_to_ship_date'],format= '%d/%m/%Y')\n",
    "ready_to_ship['pickup_date'] = pd.to_datetime(ready_to_ship['pickup_date'], format= '%d/%m/%Y')\n"
   ]
  },
  {
   "cell_type": "code",
   "execution_count": 5,
   "metadata": {},
   "outputs": [
    {
     "data": {
      "text/plain": [
       "order_id              147\n",
       "ready_to_ship_date    147\n",
       "pickup_date           147\n",
       "dtype: int64"
      ]
     },
     "execution_count": 5,
     "metadata": {},
     "output_type": "execute_result"
    }
   ],
   "source": [
    "# check duplicates \n",
    "\n",
    "muesli[muesli.duplicated(keep=False)].count()\n",
    "ready_to_ship[ready_to_ship.duplicated(keep=False)].count()\n",
    "\n",
    "# findings: one order with different products will have multiple order_ids (product_id are different)\n",
    "# this will affect the calculations for ready_to_ship"
   ]
  },
  {
   "cell_type": "code",
   "execution_count": 6,
   "metadata": {},
   "outputs": [
    {
     "data": {
      "text/plain": [
       "order_id              0\n",
       "ready_to_ship_date    0\n",
       "pickup_date           0\n",
       "dtype: int64"
      ]
     },
     "execution_count": 6,
     "metadata": {},
     "output_type": "execute_result"
    }
   ],
   "source": [
    "# copy dataframe \"ready_to_ship\" and drop the duplicates \n",
    "\n",
    "ready_to_ship_cp = ready_to_ship.copy()\n",
    "ready_to_ship_cp.drop_duplicates(inplace= True)\n",
    "\n",
    "# check duplicates handling \n",
    "ready_to_ship_cp[ready_to_ship_cp.duplicated(keep=False)].count()"
   ]
  },
  {
   "cell_type": "code",
   "execution_count": 7,
   "metadata": {},
   "outputs": [],
   "source": [
    "# JOIN/MERGE\n",
    "\n",
    "# JOIN campaign with muesli on order_id into campaign_merge\n",
    "\n",
    "campaign_merge = pd.merge(campaign, muesli, on= \"order_id\")\n",
    "\n",
    "# drop the duplicates for order_id\n",
    "campaign_merge.drop_duplicates(subset= 'order_id', inplace= True)"
   ]
  },
  {
   "cell_type": "code",
   "execution_count": 8,
   "metadata": {},
   "outputs": [],
   "source": [
    "# JOIN/MERGE\n",
    "# JOIN ready_to_ship with campaign on order_id into ready_to_ship_merge\n",
    "\n",
    "ready_to_ship_merge = pd.merge(ready_to_ship_cp, campaign, on= \"order_id\")\n"
   ]
  },
  {
   "cell_type": "markdown",
   "metadata": {},
   "source": [
    "# KPI Variables \n",
    "\n",
    "how many days from order received to be loaded on truck?  \n",
    "+ order_process['days_order_truck']\n",
    "\n",
    "how many days between ready to ship and truck pickup \n",
    "+ order_process['days_ready_truck']\n",
    "\n",
    "how many days from order to arrival \n",
    "+ campaign_merge['days_order_arrival']\n",
    "\n",
    "how many days between pickup date and arrival \n",
    "+ ready_to_ship_merge['days_truck_arrival']"
   ]
  },
  {
   "cell_type": "code",
   "execution_count": 9,
   "metadata": {},
   "outputs": [],
   "source": [
    "# calculate important metrics for KPIs\n",
    "\n",
    "# 1. how many days from order received to be loaded on truck?  \n",
    "order_process['days_order_truck'] = (order_process['on_truck_scan_date'] - order_process['order_date']).dt.days\n",
    "\n",
    "# 2. how many days between ready to ship and truck pickup \n",
    "ready_to_ship_cp['days_ready_truck'] = (ready_to_ship_cp['pickup_date'] - ready_to_ship_cp['ready_to_ship_date']).dt.days\n",
    "\n",
    "# 3. how many days from order to arrival \n",
    "campaign_merge['days_order_arrival'] = (campaign_merge['arrival_scan_date'] - campaign_merge['order_date']).dt.days\n",
    "\n",
    "# 4. how many days between pickup date and arrival \n",
    "ready_to_ship_merge['days_truck_arrival'] = (ready_to_ship_merge['arrival_scan_date'] - ready_to_ship_merge['pickup_date']).dt.days \n"
   ]
  },
  {
   "cell_type": "code",
   "execution_count": 10,
   "metadata": {},
   "outputs": [
    {
     "data": {
      "text/plain": [
       "6.120528903203933"
      ]
     },
     "execution_count": 10,
     "metadata": {},
     "output_type": "execute_result"
    },
    {
     "data": {
      "image/png": "[encoded data removed]",
      "text/plain": [
       "<Figure size 432x288 with 1 Axes>"
      ]
     },
     "metadata": {
      "needs_background": "light"
     },
     "output_type": "display_data"
    }
   ],
   "source": [
    "# plotting: 1. how many days from order received to be loaded on truck?  \n",
    "order_process.days_order_truck.plot(kind= 'hist');\n",
    "order_process.days_order_truck.mean()\n",
    "\n",
    "# Findings: it takes avg. 6 days to process orders (from order_received ~ ready_to_ship ~ scan_on_truck) \n",
    "# warehouse manager claimed takes 2 days + 1 or 2 days for this process "
   ]
  },
  {
   "cell_type": "code",
   "execution_count": 11,
   "metadata": {},
   "outputs": [
    {
     "data": {
      "text/plain": [
       "1.5735294117647058"
      ]
     },
     "execution_count": 11,
     "metadata": {},
     "output_type": "execute_result"
    },
    {
     "data": {
      "image/png": "[encoded data removed]",
      "text/plain": [
       "<Figure size 432x288 with 1 Axes>"
      ]
     },
     "metadata": {
      "needs_background": "light"
     },
     "output_type": "display_data"
    }
   ],
   "source": [
    "# plotting: 2. how many days between ready to ship and truck pickup \n",
    "ready_to_ship_cp['days_ready_truck'].plot(kind= 'hist');\n",
    "ready_to_ship_cp['days_ready_truck'].mean()\n",
    "\n",
    "# Findings: it takes avg. 1.57 days from ready_to_ship to scan_on_truck \n",
    "# meaning it takes avg 6.12 - 1.65 days from order_date to ready_to_ship"
   ]
  },
  {
   "cell_type": "code",
   "execution_count": 12,
   "metadata": {},
   "outputs": [
    {
     "data": {
      "text/plain": [
       "10.834834834834835"
      ]
     },
     "execution_count": 12,
     "metadata": {},
     "output_type": "execute_result"
    },
    {
     "data": {
      "image/png": "[encoded data removed]",
      "text/plain": [
       "<Figure size 432x288 with 1 Axes>"
      ]
     },
     "metadata": {
      "needs_background": "light"
     },
     "output_type": "display_data"
    }
   ],
   "source": [
    "# plotting: 3. how many days from order to arrival \n",
    "campaign_merge['days_order_arrival'].plot(kind= 'hist');\n",
    "campaign_merge['days_order_arrival'].mean()\n",
    "\n",
    "# Findings: it takes avg. 10.83 days for customers to receive products after they place orders"
   ]
  },
  {
   "cell_type": "code",
   "execution_count": 13,
   "metadata": {},
   "outputs": [
    {
     "data": {
      "text/plain": [
       "4.681818181818182"
      ]
     },
     "metadata": {},
     "output_type": "display_data"
    },
    {
     "data": {
      "text/plain": [
       "5.0"
      ]
     },
     "metadata": {},
     "output_type": "display_data"
    },
    {
     "data": {
      "image/png": "[encoded data removed]",
      "text/plain": [
       "<Figure size 432x288 with 1 Axes>"
      ]
     },
     "metadata": {
      "needs_background": "light"
     },
     "output_type": "display_data"
    }
   ],
   "source": [
    "# plotting: 4. how many days between pickup date and arrival \n",
    "ready_to_ship_merge['days_truck_arrival'].plot(kind= 'hist')\n",
    "display(ready_to_ship_merge['days_truck_arrival'].mean(),\n",
    "        ready_to_ship_merge['days_truck_arrival'].median()\n",
    ")\n",
    "\n",
    "# Findings: in most cases it took 5 days from scan_on_truck to customers doors (logistic company delivery)\n",
    "# according to the logistic company the avg. delivery day is 3 days "
   ]
  },
  {
   "cell_type": "code",
   "execution_count": 14,
   "metadata": {},
   "outputs": [],
   "source": [
    "# calculate on-time rate \n",
    "# extract year and month from the order_date into order_month and order_year\n",
    "\n",
    "muesli['order_month'] = muesli['order_date'].dt.month\n",
    "muesli['order_year'] = muesli['order_date'].dt.year\n",
    "\n",
    "ready_to_ship['order_month'] = ready_to_ship['ready_to_ship_date'].dt.month\n",
    "ready_to_ship['order_year'] = ready_to_ship['ready_to_ship_date'].dt.year\n",
    "\n",
    "campaign_merge['order_month'] = campaign_merge['order_date'].dt.month\n",
    "campaign_merge['order_year'] = campaign_merge['order_date'].dt.year\n",
    "\n",
    "order_process['order_month'] = order_process['order_date'].dt.month\n",
    "order_process['order_year'] = order_process['order_date'].dt.year\n",
    "\n",
    "ready_to_ship_merge['order_month'] = ready_to_ship_merge['ready_to_ship_date'].dt.month\n",
    "ready_to_ship_merge['order_year'] = ready_to_ship_merge['ready_to_ship_date'].dt.year\n"
   ]
  },
  {
   "cell_type": "code",
   "execution_count": 15,
   "metadata": {},
   "outputs": [],
   "source": [
    "# to on-time dispatch rate\n",
    "\n",
    "# on_time_dispatch_rate (from order received to on truck)\n",
    "# Create 2 new columns that say if \n",
    "order_process['days_order_truck_T'] = np.where(order_process['days_order_truck'] <= 4, 1, 0)\n",
    "order_process['days_order_truck_F'] = np.where(order_process['days_order_truck'] > 4, 1, 0)\n",
    "\n",
    "order_process_month = order_process.groupby(['order_year', 'order_month']).sum()\n",
    "order_process_month['on_time_dispatch'] = order_process_month['days_order_truck_T'] / (order_process_month['days_order_truck_T'] + order_process_month['days_order_truck_F'])\n"
   ]
  },
  {
   "cell_type": "code",
   "execution_count": 28,
   "metadata": {},
   "outputs": [
    {
     "data": {
      "image/png": "[encoded data removed]",
      "text/plain": [
       "<Figure size 720x576 with 1 Axes>"
      ]
     },
     "metadata": {
      "needs_background": "light"
     },
     "output_type": "display_data"
    }
   ],
   "source": [
    "#plotting: on-time vs not on-time in 2020\n",
    "\n",
    "months = [\"Jan\", \"Feb\", \"Mar\",\"Apr\", \"May\",\"Jun\", \"Jul\", \"Aug\", \"Sep\", \"Oct\", \"Nov\", \"Dec\"]\n",
    "\n",
    "order_process_month_20 = order_process_month.query('order_year == 2020')\n",
    "labels = ['On-Time', 'Not On-Time']\n",
    "\n",
    "plt.style.use('tableau-colorblind10')\n",
    "plt.figure(figsize=(10,8))\n",
    "\n",
    "plt.stackplot(months, order_process_month_20['days_order_truck_T'], order_process_month_20['days_order_truck_F'],labels=labels)\n",
    "plt.title(\"On Time vs. not On time: Y2020\")\n",
    "\n",
    "plt.legend(loc= 'upper left')\n",
    "plt.tight_layout()\n",
    "\n",
    "plt.show()"
   ]
  },
  {
   "cell_type": "code",
   "execution_count": 17,
   "metadata": {},
   "outputs": [
    {
     "data": {
      "image/png": "[encoded data removed]",
      "text/plain": [
       "<Figure size 720x576 with 1 Axes>"
      ]
     },
     "metadata": {
      "needs_background": "light"
     },
     "output_type": "display_data"
    }
   ],
   "source": [
    "#plotting: On Time Dispatch Rate 2019 vs. 2020\n",
    "\n",
    "order_process_year = order_process.groupby(['order_year']).sum()\n",
    "order_process_year['on_time_dispatch'] = order_process_year['days_order_truck_T'] / (order_process_year['days_order_truck_T'] + order_process_year['days_order_truck_F'])\n",
    "\n",
    "on_time_dispatch_rate_20 = order_process_month.query('order_year == 2020')\n",
    "on_time_dispatch_rate_19 = order_process_month.query('order_year == 2019')\n",
    "\n",
    "months = [\"Jan\", \"Feb\", \"Mar\",\"Apr\", \"May\",\"Jun\", \"Jul\", \"Aug\", \"Sep\", \"Oct\", \"Nov\", \"Dec\"]\n",
    "x_indexes = np.arange(len(months))\n",
    "width = 0.3\n",
    "\n",
    "plt.style.use('tableau-colorblind10')\n",
    "plt.figure(figsize=(10,8))\n",
    "\n",
    "plt.bar(x_indexes, on_time_dispatch_rate_19['on_time_dispatch'], width= width, label = \"2019\")\n",
    "plt.bar(x_indexes + width, on_time_dispatch_rate_20['on_time_dispatch'], width= width, label= \"2020\")\n",
    "\n",
    "plt.title(\"On Time Dispatch Rate 2019 vs. 2020\")\n",
    "\n",
    "plt.xticks(ticks= x_indexes, labels= months, fontsize= 14)\n",
    "plt.yticks(fontsize= 14)\n",
    "\n",
    "plt.legend()\n",
    "plt.tight_layout()\n",
    "\n",
    "plt.show()\n",
    "\n"
   ]
  },
  {
   "cell_type": "code",
   "execution_count": 29,
   "metadata": {},
   "outputs": [
    {
     "data": {
      "text/html": [
       "<div>\n",
       "<style scoped>\n",
       "    .dataframe tbody tr th:only-of-type {\n",
       "        vertical-align: middle;\n",
       "    }\n",
       "\n",
       "    .dataframe tbody tr th {\n",
       "        vertical-align: top;\n",
       "    }\n",
       "\n",
       "    .dataframe thead th {\n",
       "        text-align: right;\n",
       "    }\n",
       "</style>\n",
       "<table border=\"1\" class=\"dataframe\">\n",
       "  <thead>\n",
       "    <tr style=\"text-align: right;\">\n",
       "      <th></th>\n",
       "      <th></th>\n",
       "      <th>days_ready_truck</th>\n",
       "      <th>days_ready_truck_T</th>\n",
       "      <th>days_ready_truck_F</th>\n",
       "      <th>on_time_truck_rate</th>\n",
       "    </tr>\n",
       "    <tr>\n",
       "      <th>order_year</th>\n",
       "      <th>order_month</th>\n",
       "      <th></th>\n",
       "      <th></th>\n",
       "      <th></th>\n",
       "      <th></th>\n",
       "    </tr>\n",
       "  </thead>\n",
       "  <tbody>\n",
       "    <tr>\n",
       "      <th rowspan=\"2\" valign=\"top\">2019</th>\n",
       "      <th>9</th>\n",
       "      <td>89</td>\n",
       "      <td>54</td>\n",
       "      <td>5</td>\n",
       "      <td>0.915254</td>\n",
       "    </tr>\n",
       "    <tr>\n",
       "      <th>10</th>\n",
       "      <td>8</td>\n",
       "      <td>4</td>\n",
       "      <td>1</td>\n",
       "      <td>0.800000</td>\n",
       "    </tr>\n",
       "    <tr>\n",
       "      <th rowspan=\"2\" valign=\"top\">2020</th>\n",
       "      <th>11</th>\n",
       "      <td>205</td>\n",
       "      <td>105</td>\n",
       "      <td>25</td>\n",
       "      <td>0.807692</td>\n",
       "    </tr>\n",
       "    <tr>\n",
       "      <th>12</th>\n",
       "      <td>19</td>\n",
       "      <td>7</td>\n",
       "      <td>3</td>\n",
       "      <td>0.700000</td>\n",
       "    </tr>\n",
       "  </tbody>\n",
       "</table>\n",
       "</div>"
      ],
      "text/plain": [
       "                        days_ready_truck  days_ready_truck_T  \\\n",
       "order_year order_month                                         \n",
       "2019       9                          89                  54   \n",
       "           10                          8                   4   \n",
       "2020       11                        205                 105   \n",
       "           12                         19                   7   \n",
       "\n",
       "                        days_ready_truck_F  on_time_truck_rate  \n",
       "order_year order_month                                          \n",
       "2019       9                             5            0.915254  \n",
       "           10                            1            0.800000  \n",
       "2020       11                           25            0.807692  \n",
       "           12                            3            0.700000  "
      ]
     },
     "execution_count": 29,
     "metadata": {},
     "output_type": "execute_result"
    }
   ],
   "source": [
    "# on_time_truck_rate\n",
    "\n",
    "# split month and year in df ready_to_ship_cp\n",
    "ready_to_ship_cp['order_month'] = ready_to_ship_cp['ready_to_ship_date'].dt.month\n",
    "ready_to_ship_cp['order_year'] = ready_to_ship_cp['ready_to_ship_date'].dt.year\n",
    "\n",
    "#Create 2 new columns that say if \n",
    "ready_to_ship_cp['days_ready_truck_T'] = np.where(ready_to_ship_cp['days_ready_truck'] <= 2, 1, 0)\n",
    "\n",
    "ready_to_ship_cp['days_ready_truck_F'] = np.where(ready_to_ship_cp['days_ready_truck'] > 2, 1, 0)\n",
    "\n",
    "ready_to_ship_month = ready_to_ship_cp.groupby(['order_year', 'order_month']).sum()\n",
    "ready_to_ship_month['on_time_truck_rate'] = ready_to_ship_month['days_ready_truck_T'] / (ready_to_ship_month['days_ready_truck_T'] + ready_to_ship_month['days_ready_truck_F'])\n",
    "\n",
    "ready_to_ship_month"
   ]
  },
  {
   "cell_type": "code",
   "execution_count": 30,
   "metadata": {},
   "outputs": [
    {
     "data": {
      "text/html": [
       "<div>\n",
       "<style scoped>\n",
       "    .dataframe tbody tr th:only-of-type {\n",
       "        vertical-align: middle;\n",
       "    }\n",
       "\n",
       "    .dataframe tbody tr th {\n",
       "        vertical-align: top;\n",
       "    }\n",
       "\n",
       "    .dataframe thead th {\n",
       "        text-align: right;\n",
       "    }\n",
       "</style>\n",
       "<table border=\"1\" class=\"dataframe\">\n",
       "  <thead>\n",
       "    <tr style=\"text-align: right;\">\n",
       "      <th></th>\n",
       "      <th>days_ready_truck</th>\n",
       "      <th>order_month</th>\n",
       "      <th>days_ready_truck_T</th>\n",
       "      <th>days_ready_truck_F</th>\n",
       "      <th>on_time_truck_rate</th>\n",
       "    </tr>\n",
       "    <tr>\n",
       "      <th>order_year</th>\n",
       "      <th></th>\n",
       "      <th></th>\n",
       "      <th></th>\n",
       "      <th></th>\n",
       "      <th></th>\n",
       "    </tr>\n",
       "  </thead>\n",
       "  <tbody>\n",
       "    <tr>\n",
       "      <th>2019</th>\n",
       "      <td>97</td>\n",
       "      <td>581</td>\n",
       "      <td>58</td>\n",
       "      <td>6</td>\n",
       "      <td>0.90625</td>\n",
       "    </tr>\n",
       "    <tr>\n",
       "      <th>2020</th>\n",
       "      <td>224</td>\n",
       "      <td>1550</td>\n",
       "      <td>112</td>\n",
       "      <td>28</td>\n",
       "      <td>0.80000</td>\n",
       "    </tr>\n",
       "  </tbody>\n",
       "</table>\n",
       "</div>"
      ],
      "text/plain": [
       "            days_ready_truck  order_month  days_ready_truck_T  \\\n",
       "order_year                                                      \n",
       "2019                      97          581                  58   \n",
       "2020                     224         1550                 112   \n",
       "\n",
       "            days_ready_truck_F  on_time_truck_rate  \n",
       "order_year                                          \n",
       "2019                         6             0.90625  \n",
       "2020                        28             0.80000  "
      ]
     },
     "execution_count": 30,
     "metadata": {},
     "output_type": "execute_result"
    }
   ],
   "source": [
    "# limited data on ready_to_ship_date (290 rows)\n",
    "# let's compare them by year\n",
    "\n",
    "ready_to_ship_year = ready_to_ship_cp.groupby(['order_year']).sum()\n",
    "ready_to_ship_year['on_time_truck_rate'] = ready_to_ship_year['days_ready_truck_T'] / (ready_to_ship_year['days_ready_truck_T'] + ready_to_ship_year['days_ready_truck_F'])\n",
    "\n",
    "ready_to_ship_year"
   ]
  },
  {
   "cell_type": "code",
   "execution_count": 20,
   "metadata": {},
   "outputs": [
    {
     "data": {
      "image/png": "[encoded data removed]",
      "text/plain": [
       "<Figure size 720x576 with 1 Axes>"
      ]
     },
     "metadata": {
      "needs_background": "light"
     },
     "output_type": "display_data"
    }
   ],
   "source": [
    "# plotting: On Time Truck Rate 2019 vs. 2020\n",
    "\n",
    "plt.style.use('tableau-colorblind10')\n",
    "plt.figure(figsize=(10,8))\n",
    "\n",
    "\n",
    "years = [2019, 2020]\n",
    "\n",
    "plt.bar(years,ready_to_ship_year['on_time_truck_rate'], width= 0.5)\n",
    "\n",
    "plt.title(\"On Time Truck Rate 2019 vs. 2020\")\n",
    "plt.xticks(ticks= years, labels= years, fontsize= 14)\n",
    "plt.yticks(fontsize =14)\n",
    "\n",
    "plt.tight_layout()\n",
    "\n",
    "plt.show()"
   ]
  },
  {
   "cell_type": "code",
   "execution_count": 31,
   "metadata": {},
   "outputs": [
    {
     "data": {
      "text/html": [
       "<div>\n",
       "<style scoped>\n",
       "    .dataframe tbody tr th:only-of-type {\n",
       "        vertical-align: middle;\n",
       "    }\n",
       "\n",
       "    .dataframe tbody tr th {\n",
       "        vertical-align: top;\n",
       "    }\n",
       "\n",
       "    .dataframe thead th {\n",
       "        text-align: right;\n",
       "    }\n",
       "</style>\n",
       "<table border=\"1\" class=\"dataframe\">\n",
       "  <thead>\n",
       "    <tr style=\"text-align: right;\">\n",
       "      <th></th>\n",
       "      <th>days_truck_arrival</th>\n",
       "      <th>order_month</th>\n",
       "      <th>days_truck_arrival_T</th>\n",
       "      <th>days_truck_arrival_F</th>\n",
       "      <th>on_time_logistic_rate</th>\n",
       "      <th>on_time_logistic_fail</th>\n",
       "    </tr>\n",
       "    <tr>\n",
       "      <th>order_year</th>\n",
       "      <th></th>\n",
       "      <th></th>\n",
       "      <th></th>\n",
       "      <th></th>\n",
       "      <th></th>\n",
       "      <th></th>\n",
       "    </tr>\n",
       "  </thead>\n",
       "  <tbody>\n",
       "    <tr>\n",
       "      <th>2019</th>\n",
       "      <td>103</td>\n",
       "      <td>199</td>\n",
       "      <td>3</td>\n",
       "      <td>19</td>\n",
       "      <td>0.136364</td>\n",
       "      <td>0.863636</td>\n",
       "    </tr>\n",
       "  </tbody>\n",
       "</table>\n",
       "</div>"
      ],
      "text/plain": [
       "            days_truck_arrival  order_month  days_truck_arrival_T  \\\n",
       "order_year                                                          \n",
       "2019                       103          199                     3   \n",
       "\n",
       "            days_truck_arrival_F  on_time_logistic_rate  on_time_logistic_fail  \n",
       "order_year                                                                      \n",
       "2019                          19               0.136364               0.863636  "
      ]
     },
     "execution_count": 31,
     "metadata": {},
     "output_type": "execute_result"
    }
   ],
   "source": [
    "# on_time_logistic_rate 2019\n",
    "\n",
    "ready_to_ship_merge['days_truck_arrival_T'] = np.where(ready_to_ship_merge['days_truck_arrival'] <= 3, 1, 0)\n",
    "\n",
    "ready_to_ship_merge['days_truck_arrival_F'] = np.where(ready_to_ship_merge['days_truck_arrival'] > 3, 1, 0)\n",
    "\n",
    "ready_to_ship_merge_year = ready_to_ship_merge.groupby('order_year').sum()\n",
    "ready_to_ship_merge_year['on_time_logistic_rate'] = ready_to_ship_merge_year['days_truck_arrival_T'] / (ready_to_ship_merge_year['days_truck_arrival_T'] + ready_to_ship_merge_year['days_truck_arrival_F'])\n",
    "\n",
    "\n",
    "ready_to_ship_merge_year['on_time_logistic_fail'] = 1- ready_to_ship_merge_year['on_time_logistic_rate']\n",
    "\n",
    "ready_to_ship_merge_year"
   ]
  },
  {
   "cell_type": "code",
   "execution_count": 24,
   "metadata": {},
   "outputs": [
    {
     "data": {
      "image/png": "[encoded data removed]",
      "text/plain": [
       "<Figure size 720x576 with 1 Axes>"
      ]
     },
     "metadata": {},
     "output_type": "display_data"
    }
   ],
   "source": [
    "# plotting: On Time Logistic Rate in 2019\n",
    "\n",
    "plt.style.use('tableau-colorblind10')\n",
    "plt.figure(figsize=(10,8))\n",
    "\n",
    "slices = [14, 86]\n",
    "labels = ['within 3 days', 'more than 3 days']\n",
    "explode = [0.1, 0]\n",
    "\n",
    "plt.pie(slices, labels=labels, explode= explode, startangle= 120, autopct= '%1.1f%%', textprops={'fontsize': 14}, wedgeprops= {'edgecolor': 'black'})\n",
    "plt.title(\"On Time Logistic Rate in 2019\")\n",
    "\n",
    "plt.tight_layout()\n",
    "plt.show()"
   ]
  },
  {
   "cell_type": "code",
   "execution_count": 25,
   "metadata": {},
   "outputs": [
    {
     "data": {
      "text/html": [
       "<div>\n",
       "<style scoped>\n",
       "    .dataframe tbody tr th:only-of-type {\n",
       "        vertical-align: middle;\n",
       "    }\n",
       "\n",
       "    .dataframe tbody tr th {\n",
       "        vertical-align: top;\n",
       "    }\n",
       "\n",
       "    .dataframe thead th {\n",
       "        text-align: right;\n",
       "    }\n",
       "</style>\n",
       "<table border=\"1\" class=\"dataframe\">\n",
       "  <thead>\n",
       "    <tr style=\"text-align: right;\">\n",
       "      <th></th>\n",
       "      <th>index</th>\n",
       "      <th>postal_code</th>\n",
       "      <th>sales</th>\n",
       "      <th>quantity</th>\n",
       "      <th>discount</th>\n",
       "      <th>profit</th>\n",
       "      <th>days_order_arrival</th>\n",
       "      <th>order_month</th>\n",
       "      <th>days_order_arrival_T</th>\n",
       "      <th>days_order_arrival_F</th>\n",
       "      <th>on_time_arrival</th>\n",
       "    </tr>\n",
       "    <tr>\n",
       "      <th>order_year</th>\n",
       "      <th></th>\n",
       "      <th></th>\n",
       "      <th></th>\n",
       "      <th></th>\n",
       "      <th></th>\n",
       "      <th></th>\n",
       "      <th></th>\n",
       "      <th></th>\n",
       "      <th></th>\n",
       "      <th></th>\n",
       "      <th></th>\n",
       "    </tr>\n",
       "  </thead>\n",
       "  <tbody>\n",
       "    <tr>\n",
       "      <th>2019</th>\n",
       "      <td>1383925</td>\n",
       "      <td>15775274.0</td>\n",
       "      <td>78916.503</td>\n",
       "      <td>1087</td>\n",
       "      <td>41.0</td>\n",
       "      <td>19860.9353</td>\n",
       "      <td>3057</td>\n",
       "      <td>2423</td>\n",
       "      <td>37</td>\n",
       "      <td>243</td>\n",
       "      <td>0.132143</td>\n",
       "    </tr>\n",
       "    <tr>\n",
       "      <th>2020</th>\n",
       "      <td>294479</td>\n",
       "      <td>3416632.0</td>\n",
       "      <td>15506.141</td>\n",
       "      <td>196</td>\n",
       "      <td>8.9</td>\n",
       "      <td>-1751.6416</td>\n",
       "      <td>551</td>\n",
       "      <td>138</td>\n",
       "      <td>11</td>\n",
       "      <td>42</td>\n",
       "      <td>0.207547</td>\n",
       "    </tr>\n",
       "  </tbody>\n",
       "</table>\n",
       "</div>"
      ],
      "text/plain": [
       "              index  postal_code      sales  quantity  discount      profit  \\\n",
       "order_year                                                                    \n",
       "2019        1383925   15775274.0  78916.503      1087      41.0  19860.9353   \n",
       "2020         294479    3416632.0  15506.141       196       8.9  -1751.6416   \n",
       "\n",
       "            days_order_arrival  order_month  days_order_arrival_T  \\\n",
       "order_year                                                          \n",
       "2019                      3057         2423                    37   \n",
       "2020                       551          138                    11   \n",
       "\n",
       "            days_order_arrival_F  on_time_arrival  \n",
       "order_year                                         \n",
       "2019                         243         0.132143  \n",
       "2020                          42         0.207547  "
      ]
     },
     "metadata": {},
     "output_type": "display_data"
    }
   ],
   "source": [
    "# on_time_arrival_rate\n",
    "\n",
    "campaign_merge['days_order_arrival_T'] = np.where(campaign_merge['days_order_arrival'] <= 7, 1, 0)\n",
    "\n",
    "campaign_merge['days_order_arrival_F'] = np.where(campaign_merge['days_order_arrival'] > 7, 1, 0)\n",
    "\n",
    "campaign_merge_year = campaign_merge.groupby('order_year').sum()\n",
    "campaign_merge_year['on_time_arrival'] = campaign_merge_year['days_order_arrival_T'] / (campaign_merge_year['days_order_arrival_T'] + campaign_merge_year['days_order_arrival_F'])\n"
   ]
  },
  {
   "cell_type": "code",
   "execution_count": 26,
   "metadata": {},
   "outputs": [
    {
     "data": {
      "image/png": "[encoded data removed]",
      "text/plain": [
       "<Figure size 720x576 with 1 Axes>"
      ]
     },
     "metadata": {
      "needs_background": "light"
     },
     "output_type": "display_data"
    }
   ],
   "source": [
    "# plotting: On Time Arrival Rate 2019 vs. 2020\n",
    "\n",
    "plt.style.use('tableau-colorblind10')\n",
    "plt.figure(figsize=(10,8))\n",
    "\n",
    "years = [2019, 2020]\n",
    "\n",
    "plt.bar(years,campaign_merge_year['on_time_arrival'], width= 0.5)\n",
    "\n",
    "plt.title(\"On Time Arrival Rate 2019 vs. 2020\")\n",
    "plt.xticks(ticks= years, labels= years, fontsize= 14)\n",
    "plt.yticks(fontsize =14)\n",
    "\n",
    "plt.tight_layout()\n",
    "\n",
    "plt.show()"
   ]
  }
 ],
 "metadata": {
  "kernelspec": {
   "display_name": "Python 3.9.12 ('nf_base')",
   "language": "python",
   "name": "python3"
  },
  "language_info": {
   "codemirror_mode": {
    "name": "ipython",
    "version": 3
   },
   "file_extension": ".py",
   "mimetype": "text/x-python",
   "name": "python",
   "nbconvert_exporter": "python",
   "pygments_lexer": "ipython3",
   "version": "3.9.12"
  },
  "orig_nbformat": 4,
  "vscode": {
   "interpreter": {
    "hash": "ab3d85a18739f6fff6a9c8c504adc2ff9340867b576dede986e2ee74c099e4e5"
   }
  }
 },
 "nbformat": 4,
 "nbformat_minor": 2
}
